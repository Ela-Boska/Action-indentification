{
 "cells": [
  {
   "cell_type": "code",
   "execution_count": 1,
   "metadata": {},
   "outputs": [],
   "source": [
    "from scipy import signal\n",
    "import matplotlib.pyplot as plt\n",
    "import numpy as np\n",
    "from utils import *\n",
    "import torch\n",
    "from torch import nn\n",
    "from glob import glob\n",
    "from random import shuffle\n",
    "from torch.optim import Adam\n",
    "from torch.utils.tensorboard import SummaryWriter\n",
    "import matplotlib.pyplot as plt\n",
    "from dataset import *\n",
    "from torchvision.transforms import Normalize\n",
    "from model3 import *\n",
    "\n",
    "learning_rate = 1e-4"
   ]
  },
  {
   "cell_type": "code",
   "execution_count": 2,
   "metadata": {},
   "outputs": [
    {
     "name": "stderr",
     "output_type": "stream",
     "text": [
      "G:\\Anaconda\\lib\\site-packages\\scipy\\signal\\spectral.py:1818: UserWarning: Input data is complex, switching to return_onesided=False\n",
      "  warnings.warn('Input data is complex, switching to '\n"
     ]
    },
    {
     "name": "stdout",
     "output_type": "stream",
     "text": [
      "loss=35.41365456581116\n",
      "loss=29.35577142238617\n",
      "loss=26.566858172416687\n",
      "loss=24.55589783191681\n",
      "loss=22.71497619152069\n",
      "loss=20.96738874912262\n",
      "loss=19.262350916862488\n",
      "loss=17.893303751945496\n",
      "loss=16.63939070701599\n",
      "loss=15.38504695892334\n",
      "loss=14.546469151973724\n",
      "loss=13.705179154872894\n",
      "loss=12.708167374134064\n",
      "loss=11.989386260509491\n",
      "loss=11.435409367084503\n",
      "loss=10.780650794506073\n",
      "loss=10.233931124210358\n",
      "loss=9.666571259498596\n",
      "loss=9.18672627210617\n",
      "loss=8.819224417209625\n",
      "loss=8.44205516576767\n",
      "loss=8.057956457138062\n",
      "loss=7.647334516048431\n",
      "loss=7.472324907779694\n",
      "loss=7.149704128503799\n",
      "loss=6.8400158286094666\n",
      "loss=6.507072597742081\n",
      "loss=6.332975089550018\n",
      "loss=6.171779006719589\n",
      "loss=5.98583522439003\n",
      "loss=5.775109589099884\n",
      "loss=5.532659649848938\n",
      "loss=5.315092504024506\n",
      "loss=5.16391909122467\n",
      "loss=5.021095424890518\n",
      "loss=4.800797820091248\n",
      "loss=4.636684417724609\n",
      "loss=4.595403105020523\n",
      "loss=4.433361321687698\n",
      "loss=4.302422761917114\n",
      "loss=4.163087785243988\n",
      "loss=4.087949484586716\n",
      "loss=3.9584513008594513\n",
      "loss=3.8637737035751343\n",
      "loss=3.6660217344760895\n",
      "loss=3.590293273329735\n",
      "loss=3.5461924225091934\n",
      "loss=3.3600990623235703\n",
      "loss=3.3187307566404343\n",
      "loss=3.293953225016594\n",
      "finished\n"
     ]
    }
   ],
   "source": [
    "database1 = dataset2()\n",
    "Dataloader1 = torch.utils.data.DataLoader(database1, batch_size=128, shuffle=True)\n",
    "database2 = dataset2(train = False)\n",
    "Dataloader2 = torch.utils.data.DataLoader(database2, batch_size=128, shuffle=True)\n",
    "model = WIFI()\n",
    "optimizer = torch.optim.Adam(model.parameters(),lr=learning_rate, weight_decay=0.01)\n",
    "id = len(glob('tmp/*'))\n",
    "writer = SummaryWriter('tmp/test%d' % id)\n",
    "TRAIN(model, Dataloader1, optimizer, writer, 50)"
   ]
  },
  {
   "cell_type": "code",
   "execution_count": 3,
   "metadata": {},
   "outputs": [
    {
     "data": {
      "text/plain": [
       "(0.965625, 0.9875, 0.95625)"
      ]
     },
     "execution_count": 3,
     "metadata": {},
     "output_type": "execute_result"
    }
   ],
   "source": [
    "evaluate(model, Dataloader2)"
   ]
  },
  {
   "cell_type": "code",
   "execution_count": null,
   "metadata": {},
   "outputs": [],
   "source": []
  }
 ],
 "metadata": {
  "kernelspec": {
   "display_name": "Python 3",
   "language": "python",
   "name": "python3"
  },
  "language_info": {
   "codemirror_mode": {
    "name": "ipython",
    "version": 3
   },
   "file_extension": ".py",
   "mimetype": "text/x-python",
   "name": "python",
   "nbconvert_exporter": "python",
   "pygments_lexer": "ipython3",
   "version": "3.7.4"
  }
 },
 "nbformat": 4,
 "nbformat_minor": 4
}
