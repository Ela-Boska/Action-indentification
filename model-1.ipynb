{
 "cells": [
  {
   "cell_type": "code",
   "execution_count": 1,
   "metadata": {},
   "outputs": [],
   "source": [
    "from scipy import signal\n",
    "import matplotlib.pyplot as plt\n",
    "import numpy as np\n",
    "from utils import *\n",
    "import torch\n",
    "from torch import nn\n",
    "from glob import glob\n",
    "from random import shuffle\n",
    "from torch.optim import Adam\n",
    "from torch.utils.tensorboard import SummaryWriter\n",
    "import matplotlib.pyplot as plt\n",
    "from dataset import *\n",
    "from torchvision.transforms import Normalize\n",
    "from model1 import *\n",
    "\n",
    "id2class = {0:'walk', 1:'stand', 2:'wave'}\n",
    "p_dropout = 0.0\n",
    "print_every = 10\n",
    "learning_rate = 1e-4\n",
    "\n",
    "mean, std = ([-1.6777,  0.6739, -2.5225, -0.3831,  0.3571, -1.4056,  0.8751,  4.8309,\n",
    "         6.1152, -0.1111,  6.0329,  1.3064], [2.8436, 2.8530, 3.8619, 1.9713, 3.0723, 2.0981, 0.2060, 0.6366, 0.5269,\n",
    "        1.9145, 2.3210, 0.3686])"
   ]
  },
  {
   "cell_type": "code",
   "execution_count": 2,
   "metadata": {},
   "outputs": [
    {
     "name": "stderr",
     "output_type": "stream",
     "text": [
      "G:\\Anaconda\\lib\\site-packages\\scipy\\signal\\spectral.py:1818: UserWarning: Input data is complex, switching to return_onesided=False\n",
      "  warnings.warn('Input data is complex, switching to '\n"
     ]
    },
    {
     "name": "stdout",
     "output_type": "stream",
     "text": [
      "loss=33.22886037826538\n",
      "loss=26.15640938282013\n",
      "loss=22.00280725955963\n",
      "loss=19.35735058784485\n",
      "loss=17.140499114990234\n",
      "loss=15.156948864459991\n",
      "loss=13.402532815933228\n",
      "loss=11.722638726234436\n",
      "loss=10.267404019832611\n",
      "loss=9.034958004951477\n",
      "loss=7.9222999811172485\n",
      "loss=6.913501024246216\n",
      "loss=6.090700834989548\n",
      "loss=5.384095221757889\n",
      "loss=4.744929164648056\n",
      "loss=4.307765543460846\n",
      "loss=3.7916067391633987\n",
      "loss=3.342546969652176\n",
      "loss=3.026702970266342\n",
      "loss=2.7823579162359238\n",
      "loss=2.518805518746376\n",
      "loss=2.372944012284279\n",
      "loss=2.1983555406332016\n",
      "loss=2.0563982725143433\n",
      "loss=1.9221168905496597\n",
      "loss=1.8206282407045364\n",
      "loss=1.6751309484243393\n",
      "loss=1.6314252838492393\n",
      "loss=1.5487615913152695\n",
      "loss=1.4796372950077057\n",
      "finished\n"
     ]
    }
   ],
   "source": [
    "database1 = my_dataset()\n",
    "Dataloader1 = torch.utils.data.DataLoader(database1, batch_size=128, shuffle=True)\n",
    "database2 = my_dataset(train = False)\n",
    "Dataloader2 = torch.utils.data.DataLoader(database2, batch_size=128, shuffle=True)\n",
    "model = WIFI()\n",
    "optimizer = torch.optim.Adam(model.parameters(),lr=learning_rate, weight_decay=0.01)\n",
    "id = len(glob('tmp/*'))\n",
    "writer = SummaryWriter('tmp/test%d' % id)\n",
    "TRAIN(model, Dataloader1, optimizer, writer, 30)"
   ]
  },
  {
   "cell_type": "code",
   "execution_count": 3,
   "metadata": {},
   "outputs": [
    {
     "data": {
      "text/plain": [
       "(1.0, 1.0, 1.0)"
      ]
     },
     "execution_count": 3,
     "metadata": {},
     "output_type": "execute_result"
    }
   ],
   "source": [
    "evaluate(model, Dataloader2)"
   ]
  },
  {
   "cell_type": "code",
   "execution_count": null,
   "metadata": {},
   "outputs": [],
   "source": []
  },
  {
   "cell_type": "code",
   "execution_count": null,
   "metadata": {},
   "outputs": [],
   "source": []
  }
 ],
 "metadata": {
  "kernelspec": {
   "display_name": "Python 3",
   "language": "python",
   "name": "python3"
  },
  "language_info": {
   "codemirror_mode": {
    "name": "ipython",
    "version": 3
   },
   "file_extension": ".py",
   "mimetype": "text/x-python",
   "name": "python",
   "nbconvert_exporter": "python",
   "pygments_lexer": "ipython3",
   "version": "3.7.4"
  }
 },
 "nbformat": 4,
 "nbformat_minor": 4
}
